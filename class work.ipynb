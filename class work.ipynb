{
 "cells": [
  {
   "cell_type": "markdown",
   "id": "52402b3e",
   "metadata": {},
   "source": [
    "## Programming principles\n",
    "- **Computer Program** software designed to solve a problem on a computer/ computer instructions to carry out a defined task\n",
    "- **Programming** - the process of developing computer programs using ```syntax``` from a particular programming language\n",
    "- **Coding** - writting testing debugging and maintaining source code for computer programs\n",
    " \n",
    "#### Main functions of a computer program\n",
    "\n",
    "- Accept data input\n",
    "- Process the data within computer memory\n",
    "- Store data for future use\n",
    "- Presnet processing results as output\n",
    "\n",
    "### Levels of Programming languages\n",
    "There are two main types:\n",
    "- Low Level - machines can easily understand\n",
    "- High Level - humans can easily understand and manipulate\n",
    "\n",
    "**comparing low level and high level languages**\n",
    "\n",
    "| High Level Languages | Low Level Languages |\n",
    "|----------------------|---------------------|\n",
    "|1. Programmer friendly | 1. Machine friendly |\n",
    "|2. Less memory efficient | 2. Higher memory efficiency |\n",
    "|3. Easy to understand |3. Harder to understand |\n",
    "|4. Simple to debug | 4. Comparatively harder to debug |\n",
    "|5. Simple to maintain | 5. Comparatively harder to maintain |\n",
    "|6. Portable(not machine specific) | 6. Not Portable (machine specific) |\n",
    "|7. Can run on any platform | 7. Machine specific (code for comps can't run on cloud) |\n",
    "|8. Needs an interpreter of compiler for translation | 8. Needs and assembler for translation |\n",
    "|9. Commonly used today |9. Not as commonly used today |\n",
    "\n",
    "#### Class Activity\n",
    "```\n",
    "Discuss the following programming languages\n",
    "- Machine code \n",
    "- Assembly lang\n",
    "\n",
    "** 3GL\n",
    "- COBOL\n",
    "- FORTRAN\n",
    "- Basic\n",
    "- PASCAL\n",
    "- C\n",
    "- Lisp\n",
    "- PROLOG\n",
    "- LOGO\n",
    "\n",
    "** 4GL\n",
    "- SQL\n",
    "- APP Generators\n",
    "- Report Generators\n",
    "- Decision Support\n",
    "- Graphic Languages\n",
    "```"
   ]
  }
 ],
 "metadata": {
  "kernelspec": {
   "display_name": "Python 3 (ipykernel)",
   "language": "python",
   "name": "python3"
  },
  "language_info": {
   "codemirror_mode": {
    "name": "ipython",
    "version": 3
   },
   "file_extension": ".py",
   "mimetype": "text/x-python",
   "name": "python",
   "nbconvert_exporter": "python",
   "pygments_lexer": "ipython3",
   "version": "3.9.12"
  }
 },
 "nbformat": 4,
 "nbformat_minor": 5
}
